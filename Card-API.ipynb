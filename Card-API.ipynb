{
 "cells": [
  {
   "cell_type": "code",
   "execution_count": 1,
   "metadata": {},
   "outputs": [],
   "source": [
    "# train a generative adversarial network on a one-dimensional function\n",
    "from numpy import hstack\n",
    "from numpy import zeros\n",
    "from numpy import ones\n",
    "from numpy.random import rand\n",
    "from numpy.random import randn\n",
    "from keras.models import Sequential\n",
    "from keras.layers import Dense\n",
    "from matplotlib import pyplot\n",
    "import requests\n",
    "import numpy as np\n",
    "import pandas as pd\n",
    "\n",
    "from bs4 import BeautifulSoup\n"
   ]
  },
  {
   "cell_type": "code",
   "execution_count": 2,
   "metadata": {
    "scrolled": true
   },
   "outputs": [
    {
     "name": "stdout",
     "output_type": "stream",
     "text": [
      "https://omgvamp-hearthstone-v1.p.rapidapi.com/cards/sets/Madness%20At%20The%20Darkmoon%20Faire\n",
      "170\n",
      "https://omgvamp-hearthstone-v1.p.rapidapi.com/cards/sets/Scholomance%20Academy\n",
      "135\n",
      "https://omgvamp-hearthstone-v1.p.rapidapi.com/cards/sets/Demon%20Hunter%20Initiate\n",
      "20\n",
      "https://omgvamp-hearthstone-v1.p.rapidapi.com/cards/sets/Ashes%20of%20Outland\n",
      "135\n",
      "https://omgvamp-hearthstone-v1.p.rapidapi.com/cards/sets/Galakrond%27s%20Awakening\n",
      "35\n",
      "https://omgvamp-hearthstone-v1.p.rapidapi.com/cards/sets/Descent%20of%20Dragons\n",
      "140\n",
      "https://omgvamp-hearthstone-v1.p.rapidapi.com/cards/sets/Saviors%20of%20Uldum\n",
      "135\n",
      "https://omgvamp-hearthstone-v1.p.rapidapi.com/cards/sets/Rise%20of%20Shadows\n",
      "136\n",
      "https://omgvamp-hearthstone-v1.p.rapidapi.com/cards/sets/Classic\n",
      "240\n",
      "https://omgvamp-hearthstone-v1.p.rapidapi.com/cards/sets/Basic\n",
      "153\n"
     ]
    }
   ],
   "source": [
    "import requests\n",
    "import json\n",
    "\n",
    "data = []\n",
    "final_json = []\n",
    "sets=['Madness%20At%20The%20Darkmoon%20Faire', 'Scholomance%20Academy', 'Demon%20Hunter%20Initiate', 'Ashes%20of%20Outland', 'Galakrond%27s%20Awakening', 'Descent%20of%20Dragons', 'Saviors%20of%20Uldum', 'Rise%20of%20Shadows', 'Classic', 'Basic']\n",
    "\n",
    "for expansion in sets:\n",
    "    url = \"https://omgvamp-hearthstone-v1.p.rapidapi.com/cards/sets/{}\".format(expansion)\n",
    "    print(url)\n",
    "    querystring = {\"collectible\":\"1\"}\n",
    "    headers = {\n",
    "        'x-rapidapi-key': \"6f7facb290msh83edc592c0e6ed3p1dbcbajsne1d012ba6886\",\n",
    "        'x-rapidapi-host': \"omgvamp-hearthstone-v1.p.rapidapi.com\"\n",
    "        }\n",
    "\n",
    "    response = requests.request(\"GET\", url, headers=headers, params=querystring)\n",
    "    json_data = json.loads(response.text)\n",
    "    data.append(json_data)\n",
    "    print(len(json_data))\n",
    "    \n",
    "i = 0\n",
    "for card_set in data:\n",
    "    for card in card_set: \n",
    "        card['id'] = i\n",
    "        i += 1\n",
    "        final_json.append(card)\n",
    "        \n",
    "    \n",
    "with open('data.json', 'w', encoding='utf-8') as f:\n",
    "    json.dump(final_json, f, ensure_ascii=False, indent=4)"
   ]
  },
  {
   "cell_type": "code",
   "execution_count": 3,
   "metadata": {},
   "outputs": [
    {
     "data": {
      "text/plain": [
       "{'cardId': 'DMF_221',\n",
       " 'dbfId': '61127',\n",
       " 'name': 'Felscream Blast',\n",
       " 'cardSet': 'Madness At The Darkmoon Faire',\n",
       " 'type': 'Spell',\n",
       " 'rarity': 'Common',\n",
       " 'cost': 1,\n",
       " 'text': '<b>Lifesteal</b>. Deal $1 damage to a minion and its neighbors.',\n",
       " 'flavor': 'All the souls start running when they see the felscream truck.',\n",
       " 'artist': 'K. Lashley & K. Turovec',\n",
       " 'collectible': True,\n",
       " 'playerClass': 'Demon Hunter',\n",
       " 'img': 'https://d15f34w2p8l1cc.cloudfront.net/hearthstone/7a73e2ee3bbff1f040e66c9ed23b6fb0ee96fa8a77925a78819d0d68701d6a90.png',\n",
       " 'locale': 'enUS',\n",
       " 'mechanics': [{'name': 'Lifesteal'}],\n",
       " 'id': 1}"
      ]
     },
     "execution_count": 3,
     "metadata": {},
     "output_type": "execute_result"
    }
   ],
   "source": [
    "import json \n",
    "\n",
    "file = open(\"data.json\", \"r\")\n",
    "\n",
    "cards = json.load(file)\n",
    "\n",
    "cards[1]"
   ]
  },
  {
   "cell_type": "code",
   "execution_count": 4,
   "metadata": {},
   "outputs": [
    {
     "data": {
      "text/plain": [
       "91"
      ]
     },
     "execution_count": 4,
     "metadata": {},
     "output_type": "execute_result"
    }
   ],
   "source": [
    "def sort_by_class(cl, cards):\n",
    "    class_cards = []\n",
    "    for card in cards:\n",
    "        if card['playerClass'] == cl : #or card['playerClass'] == 'Neutral' if I want to add Neutrals\n",
    "            class_cards.append(card)\n",
    "    return class_cards\n",
    "\n",
    "test = sort_by_class('Hunter', cards)\n",
    "len(test)\n",
    "\n",
    "    "
   ]
  },
  {
   "cell_type": "code",
   "execution_count": null,
   "metadata": {},
   "outputs": [],
   "source": []
  }
 ],
 "metadata": {
  "kernelspec": {
   "display_name": "Python 3",
   "language": "python",
   "name": "python3"
  },
  "language_info": {
   "codemirror_mode": {
    "name": "ipython",
    "version": 3
   },
   "file_extension": ".py",
   "mimetype": "text/x-python",
   "name": "python",
   "nbconvert_exporter": "python",
   "pygments_lexer": "ipython3",
   "version": "3.8.6"
  }
 },
 "nbformat": 4,
 "nbformat_minor": 4
}
