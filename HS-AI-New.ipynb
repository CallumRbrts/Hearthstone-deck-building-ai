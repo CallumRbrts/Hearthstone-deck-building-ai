{
 "cells": [
  {
   "cell_type": "code",
   "execution_count": 18,
   "metadata": {},
   "outputs": [],
   "source": [
    "# train a generative adversarial network on a one-dimensional function\n",
    "from numpy import hstack\n",
    "from numpy import zeros\n",
    "from numpy import ones\n",
    "from numpy.random import rand\n",
    "from numpy.random import randn\n",
    "from keras.models import Sequential\n",
    "from keras.layers import Dense\n",
    "from keras.layers import Dropout\n",
    "from matplotlib import pyplot\n",
    "import requests\n",
    "import json\n",
    "\n",
    "from bs4 import BeautifulSoup\n"
   ]
  },
  {
   "cell_type": "code",
   "execution_count": 20,
   "metadata": {},
   "outputs": [
    {
     "data": {
      "text/plain": [
       "30"
      ]
     },
     "execution_count": 20,
     "metadata": {},
     "output_type": "execute_result"
    }
   ],
   "source": [
    "file = open(\"data.json\", \"r\")\n",
    "\n",
    "cards = json.load(file)\n",
    "\n",
    "deck_vector = [32,64,98,1000,1250,1,2,4,5,70,97,12,67,98,33,33,43,54,76,27,65,43,78,32,78,96,12,10,32,6]\n",
    "\n",
    "deck = []\n",
    "for elem in deck_vector:\n",
    "    deck.append(cards[elem])\n",
    "len(deck)\n",
    "    "
   ]
  },
  {
   "cell_type": "code",
   "execution_count": 2,
   "metadata": {},
   "outputs": [
    {
     "name": "stdout",
     "output_type": "stream",
     "text": [
      "32\n",
      "Arcane Breath\n",
      "1254\n"
     ]
    }
   ],
   "source": [
    "file1 = open('cards-standard.txt', 'r') \n",
    "Lines = file1.readlines() \n",
    "maximum = len(Lines)\n",
    "cards_key = {}\n",
    "cards_value = {}\n",
    "i=1\n",
    "for line in Lines:\n",
    "    cards_value[i] = line.rstrip(\"\\n\")\n",
    "    cards_key[line.rstrip(\"\\n\")] = i\n",
    "    i += 1\n",
    "\n",
    "print(cards_key[\"Arcane Breath\"])\n",
    "print(cards_value[32])\n",
    "print(len(Lines))"
   ]
  },
  {
   "cell_type": "code",
   "execution_count": 3,
   "metadata": {},
   "outputs": [
    {
     "name": "stdout",
     "output_type": "stream",
     "text": [
      "30\n",
      "['Arcane Breath', 'Demon Companion', 'Humility', 'Wrathspike Brute', 'Survival of the Fittest', 'Ancestral Healing', 'Backstab', 'Circle of Healing', 'Desk Imp', 'Double Jump', 'Hot Air Balloon', 'Lightning Bloom', 'Desperate Measures', 'Humility', 'Arcane Missiles', 'Arcane Missiles', 'Blessing of Might', 'Claw', 'Elemental Allies', 'Activate the Obelisk', 'Demonic Studies', 'Blessing of Might', 'Embalming Ritual', 'Arcane Breath', 'Embalming Ritual', 'Holy Smite', 'Lightning Bloom', 'Innervate', 'Arcane Breath', 'Embiggen']\n",
      "[32, 64, 98, 1000, 1250, 1, 2, 4, 5, 70, 97, 12, 67, 98, 33, 33, 43, 54, 76, 27, 65, 43, 78, 32, 78, 96, 12, 10, 32, 6]\n"
     ]
    }
   ],
   "source": [
    "deck_vector = [32,64,98,1000,1250,1,2,4,5,70,97,12,67,98,33,33,43,54,76,27,65,43,78,32,78,96,12,10,32,6]\n",
    "print(len(deck_vector))\n",
    "\n",
    "#no need to filter based of card class or legendaries etc.. because this is just for the conversion after the deck has been built. The actual filtering should be either done by the AI or previously done in the deckbuilding CSV\n",
    "\n",
    "def deck_to_vector(deck):\n",
    "    deck_vector = []\n",
    "    for elem in deck:\n",
    "        #remove any potential white spaces from strings\n",
    "        #if type(deck) is not list:\n",
    "        elem = elem.lstrip()\n",
    "        elem = elem.rstrip()\n",
    "        deck_vector.append(cards_key[elem])\n",
    "    return deck_vector\n",
    "\n",
    "def vector_to_deck(deck_vector):\n",
    "    deck = []\n",
    "    for elem in deck_vector:\n",
    "        deck.append(cards_value[elem])\n",
    "    return deck\n",
    "\n",
    "deck = vector_to_deck(deck_vector)\n",
    "print(deck)\n",
    "\n",
    "new_deck_vector = deck_to_vector(deck)\n",
    "print(new_deck_vector)\n"
   ]
  },
  {
   "cell_type": "code",
   "execution_count": 4,
   "metadata": {},
   "outputs": [],
   "source": [
    "import numpy as np\n",
    "import pandas as pd\n",
    "def concatenate_deck_class(decks, classes):\n",
    "    concatenated_result = []\n",
    "    for i in range(len(decks)):\n",
    "        concatenated_result.append([decks[i],classes[i]])\n",
    "    return concatenated_result\n",
    "def read_vector_decks(file):\n",
    "    df = pd.read_csv(file)\n",
    "    cards_from_csv = df['cards']\n",
    "    converted_decks = []\n",
    "    for cards in cards_from_csv:\n",
    "        if len(deck) == 30: #len(cards)\n",
    "            deck_to_convert = []\n",
    "            cards = cards.strip(\"[]\")\n",
    "            cards = cards.split(\", \")\n",
    "            for card in cards:\n",
    "                if card == '':\n",
    "                    continue\n",
    "                deck_to_convert.append(int(card))\n",
    "            converted_decks.append(vector_to_deck(deck_to_convert)) #np.asarray\n",
    "            class_from_csv = df['class']\n",
    "            final = concatenate_deck_class(converted_decks, class_from_csv)\n",
    "    return final\n",
    "deck_list = read_vector_decks(\"collected_decks_vectored_Warrior.csv\")\n"
   ]
  },
  {
   "cell_type": "code",
   "execution_count": null,
   "metadata": {},
   "outputs": [],
   "source": []
  },
  {
   "cell_type": "code",
   "execution_count": 5,
   "metadata": {},
   "outputs": [],
   "source": [
    "classes = ['Warrior', 'Mage', 'Hunter', 'Priest', 'Druid', 'Rogue', 'Shaman', 'Warlock', 'Paladin', 'Demon Hunter']\n",
    "\n",
    "class_dictionary = {}\n",
    "\n",
    "def filter_class(class_):\n",
    "    filtered_decks = []\n",
    "    for deck in deck_list:\n",
    "        if len(deck[0]) == 30:\n",
    "            if deck[1] == class_:\n",
    "                filtered_decks.append(deck)\n",
    "    return filtered_decks\n",
    "\n",
    "for class_ in classes:\n",
    "    class_dictionary[class_] = filter_class(class_)\n",
    "    #print(filtered_decks)        "
   ]
  },
  {
   "cell_type": "code",
   "execution_count": 6,
   "metadata": {},
   "outputs": [
    {
     "name": "stdout",
     "output_type": "stream",
     "text": [
      "Warrior: 1566\n",
      "Mage: 0\n",
      "Hunter: 0\n",
      "Priest: 0\n",
      "Druid: 0\n",
      "Rogue: 0\n",
      "Shaman: 0\n",
      "Warlock: 0\n",
      "Paladin: 0\n",
      "Demon Hunter: 0\n"
     ]
    },
    {
     "data": {
      "image/png": "[encoded data removed]",
      "text/plain": [
       "<Figure size 432x288 with 1 Axes>"
      ]
     },
     "metadata": {
      "needs_background": "light"
     },
     "output_type": "display_data"
    }
   ],
   "source": [
    "import numpy as np\n",
    "import matplotlib.pyplot as plt\n",
    "\n",
    "performance = []\n",
    "#number of decks of each class\n",
    "for class_ in classes:\n",
    "    performance.append(len(class_dictionary[class_]))\n",
    "    print(class_ + \": \" + str(len(class_dictionary[class_])))\n",
    "\n",
    "\n",
    "y_pos = np.arange(len(classes))\n",
    "plt.bar(y_pos, performance, align=\"center\", alpha=0.5)\n",
    "plt.xticks(y_pos, classes, rotation = 45)\n",
    "plt.ylabel('Number of Decks')\n",
    "plt.title('Decks per class')\n",
    "plt.show()"
   ]
  },
  {
   "cell_type": "code",
   "execution_count": 7,
   "metadata": {},
   "outputs": [
    {
     "data": {
      "text/plain": [
       "['Activate the Obelisk',\n",
       " 'EVIL Totem',\n",
       " 'Cairne Bloodhoof',\n",
       " 'Edwin VanCleef',\n",
       " 'Argent Protector',\n",
       " 'Lightwell',\n",
       " 'SI:7 Infiltrator',\n",
       " 'Scarlet Crusader',\n",
       " 'Grand Lackey Erkh',\n",
       " 'Guardian Augmerchant',\n",
       " 'Mana Cyclone',\n",
       " 'Commencement',\n",
       " 'Stampeding Kodo',\n",
       " 'Dirty Tricks',\n",
       " 'Twilight Runner',\n",
       " 'Chef Nomi',\n",
       " 'Far Sight',\n",
       " 'Risky Skipper',\n",
       " 'Keeper of the Grove',\n",
       " 'Guardian of Kings',\n",
       " 'Shadow Word: Ruin',\n",
       " 'Ancestral Healing',\n",
       " 'Wild Growth',\n",
       " 'Madame Lazul',\n",
       " 'Questing Adventurer',\n",
       " 'Squallhunter',\n",
       " 'Windfury',\n",
       " 'Jar Dealer',\n",
       " 'Pit Lord',\n",
       " 'Psyche Split']"
      ]
     },
     "execution_count": 7,
     "metadata": {},
     "output_type": "execute_result"
    }
   ],
   "source": [
    "import random\n",
    "\n",
    "def generate_fake_deck():\n",
    "    deck = []\n",
    "    for i in range(30):\n",
    "        x = random.randint(1,maximum)\n",
    "        deck.append(x)\n",
    "    return deck\n",
    "\n",
    "deck = generate_fake_deck()\n",
    "deck = vector_to_deck(deck)\n",
    "deck"
   ]
  },
  {
   "cell_type": "code",
   "execution_count": 8,
   "metadata": {},
   "outputs": [],
   "source": [
    "\n",
    "# define the standalone discriminator model\n",
    "def define_discriminator(n_inputs=30):\n",
    "    model = Sequential()\n",
    "    model.add(Dense(30, activation='relu', kernel_initializer='he_uniform', input_dim=n_inputs))\n",
    "    model.add(Dense(1, activation='sigmoid'))\n",
    "    # compile model\n",
    "    model.compile(loss='binary_crossentropy', optimizer='adam', metrics=['accuracy'])\n",
    "    return model\n",
    "\n",
    "# define the standalone generator model\n",
    "def define_generator(latent_dim, n_outputs=30):\n",
    "    model = Sequential()\n",
    "    model.add(Dense(200, activation='relu', kernel_initializer='he_uniform', input_dim=latent_dim))\n",
    "   # model.add(Dense(30, activation='relu'))\n",
    "    model.add(Dense(200, activation='relu'))\n",
    "    model.add(Dropout(0.3))\n",
    "    #model.add(Round())\n",
    "    model.add(Dense(n_outputs, activation='linear')) #relu #linear\n",
    "    model.compile(loss='binary_crossentropy', optimizer=\"adam\", metrics=['accuracy'])\n",
    "    #model.compile(loss='mean_absolute_error', optimizer='Adam')\n",
    "\n",
    "    return model\n",
    "\n"
   ]
  },
  {
   "cell_type": "code",
   "execution_count": 9,
   "metadata": {},
   "outputs": [],
   "source": [
    "# define the combined generator and discriminator model, for updating the generator\n",
    "def define_gan(generator, discriminator):\n",
    "    # make weights in the discriminator not trainable\n",
    "    discriminator.trainable = False\n",
    "    # connect them\n",
    "    model = Sequential()\n",
    "    # add generator\n",
    "    model.add(generator)\n",
    "    # add the discriminator\n",
    "    model.add(discriminator)\n",
    "    # compile model\n",
    "    model.compile(loss='binary_crossentropy', optimizer='adam')\n",
    "    return model\n"
   ]
  },
  {
   "cell_type": "code",
   "execution_count": 10,
   "metadata": {},
   "outputs": [
    {
     "name": "stdout",
     "output_type": "stream",
     "text": [
      "(5, 30)\n",
      "(5, 1)\n",
      "[\"Imprisoned Gan'arg\", \"Imprisoned Gan'arg\", 'Into the Fray', 'Into the Fray', 'Shield Slam', 'Shield Slam', 'Battle Rage', 'Battle Rage', 'Frightened Flunky', 'Frightened Flunky', 'Bladestorm', 'Bladestorm', 'Shield Block', 'Shield Block', 'Kargath Bladefist', 'Scrap Golem', 'Scrap Golem', 'Armagedillo', 'Deathwing, Mad Aspect', 'Grommash Hellscream', 'Tomb Warden', 'Tomb Warden', 'Infested Goblin', 'Infested Goblin', 'Overconfident Orc', 'Overconfident Orc', 'Hippogryph', 'Hippogryph', 'Ruststeed Raider', 'Ruststeed Raider']\n",
      "<class 'numpy.ndarray'>\n",
      "<class 'numpy.ndarray'>\n"
     ]
    }
   ],
   "source": [
    "#generate a fake deck function\n",
    "#function that collects a sample of decks from dataset\n",
    "#function that filters the dataset based on the class selected\n",
    "#function that converts decks into vectors and back into decks\n",
    "#function that links generated GAN deck into simulator\n",
    "\n",
    "#Equivalent generate latent points function for decks?\n",
    "#how would I generate \"fake\" decks from the generator? \n",
    "# - The generator usually takes a noise vector from the latent dimension. How would I do that in my problem? Do I need to create a sort of histogram function that \"encapsulates\" a deck and all the cards from every data row are added to it, then the chosen deck highlights the points on the chart\n",
    "#how would I convert the decks into vectors to feed into the Network? \n",
    "# - Maybe by creating a collection of cards and associate a key to their name and use those keys to create a vector of shape[30]\n",
    "#Feeding vectors of decks should work right? \n",
    "#which of the examples should I base myself off? Are they both correct?\n",
    "\n",
    "\n",
    "#Generate a random vector of 30 random cards. \n",
    "#Input of the neural network would be 30\n",
    "\n",
    "def generate_deck_samples(n, class_):\n",
    "    samples = []\n",
    "    #labels = []\n",
    "    size = len(class_dictionary[class_])\n",
    "    for i in range(n):\n",
    "        if i > size:\n",
    "            n = size\n",
    "            break\n",
    "        else:\n",
    "            index = random.randint(0,size-1)\n",
    "            #print(deck_to_vector(class_dictionary[class_][index][0]))\n",
    "            samples.append(np.asarray(deck_to_vector(class_dictionary[class_][index][0]))) #!!!!\n",
    "            \n",
    "    labels = ones((len(samples), 1))        \n",
    "    return np.asarray(samples), labels\n",
    "\n",
    "real_X, real_Y = generate_deck_samples(5, 'Warrior')\n",
    "print(real_X.shape)\n",
    "print(real_Y.shape)\n",
    "\n",
    "\n",
    "latent_space = []\n",
    "for x in real_X:\n",
    "    for y in x:\n",
    "        latent_space.append(y)\n",
    "#plt.plot(latent_space)\n",
    "\n",
    "#rand_deck = []\n",
    "#for i in range(30):\n",
    "#    rand_deck.append(latent_space[random.randint(0,len(latent_space))])\n",
    "#plt.plot(rand_deck)\n",
    "    \n",
    "\n",
    "#print(real_X[1])\n",
    "#plt.plot(real_X[1])\n",
    "#real_X = np.asarray(real_X)\n",
    "print(vector_to_deck(real_X[1]))\n",
    "print(type(real_X))\n",
    "print(type(real_Y))\n",
    "\n",
    "def generate_random_deck():\n",
    "    deck = []\n",
    "    for i in range(30):\n",
    "        x = random.randint(1,maximum)\n",
    "        deck.append(x)\n",
    "    return deck\n",
    "        \n",
    "def generate_fake_decks(generator, n):\n",
    "    fake_decks = []\n",
    "    for i in range(n):\n",
    "        fake_decks.append(generate_random_deck())\n",
    "    fake_decks = np.asarray(fake_decks)\n",
    "    X = np.round(generator.predict(fake_decks))\n",
    "    y = zeros((n,1))\n",
    "    return X, y\n",
    "\n",
    "def generate_fake_sample(generator):\n",
    "    fake_decks = []\n",
    "    fake_decks.append(generate_random_deck())\n",
    "    fake_decks = np.asarray(fake_decks)\n",
    "    X = np.round(generator.predict(fake_decks))\n",
    "    y = ones((1,1))\n",
    "    return X, y\n"
   ]
  },
  {
   "cell_type": "code",
   "execution_count": 11,
   "metadata": {},
   "outputs": [],
   "source": [
    "# evaluate the discriminator and plot real and fake points\n",
    "def summarize_performance_gan(epoch, generator, discriminator, class_, n=1):\n",
    "    # prepare real samples\n",
    "    x_real, y_real = generate_deck_samples(n, class_)\n",
    "    \n",
    "    #print(x_real)\n",
    "   # print(y_real.shape)\n",
    "    # evaluate discriminator on real examples\n",
    "    _, acc_real = discriminator.evaluate(x_real, y_real, verbose=0)\n",
    "    # prepare fake examples\n",
    "    x_fake, y_fake = generate_fake_decks(generator, n)\n",
    "    #print(x_fake)\n",
    "   # print(y_fake.shape)\n",
    "    # evaluate discriminator on fake examples\n",
    "    _, acc_fake = discriminator.evaluate(x_fake, y_fake, verbose=0)\n",
    "    # summarize discriminator performance\n",
    "    print(epoch, acc_real, acc_fake)\n",
    "    # scatter plot real and fake data points\n",
    "    real = []\n",
    "    fake = []\n",
    "    for i in x_real:\n",
    "        #pyplot.scatter(i[:], i[:], color='red')\n",
    "        for d in i:\n",
    "            real.append(d)\n",
    "    for x in x_fake:\n",
    "        #pyplot.scatter(x[:], x[:], color='blue')\n",
    "        for d in x:\n",
    "            fake.append(d)\n",
    "    #real = np.asarray(real)\n",
    "    #fake = np.asarray(fake)\n",
    "    print(len(real))\n",
    "    print(len(fake))\n",
    "    real.sort()\n",
    "    fake.sort()\n",
    "    plt.plot(real, color='red')\n",
    "    plt.plot(fake, color='blue')\n",
    "    plt.show()\n",
    "\n",
    "    #print(x_fake)\n",
    "    #print(fake)\n",
    "    #pyplot.scatter(x_real[:], x_real[:], color='red')\n",
    "    #pyplot.scatter(x_fake[:], x_fake[:], color='blue')\n",
    "    #pyplot.show()\n",
    "    return x_fake\n"
   ]
  },
  {
   "cell_type": "code",
   "execution_count": 12,
   "metadata": {},
   "outputs": [],
   "source": [
    "#modify this tooutput the same shape as x_fake\n",
    "def fake_deck(real_X):\n",
    "    latent_space = []\n",
    "    for x in real_X:\n",
    "        for y in x:\n",
    "            latent_space.append(y)\n",
    "    #plt.plot(latent_space)\n",
    "    \n",
    "    rand_deck = []\n",
    "    for i in range(30):\n",
    "        rand_deck.append(latent_space[random.randint(0,len(latent_space)-1)])\n",
    "    rand_deck = np.asarray(rand_deck)\n",
    "    X = np.round(generator.predict(rand_deck))\n",
    "    return X\n",
    "    \n",
    "\n",
    "# train the generator and discriminator\n",
    "def train(g_model, d_model, gan_model, latent_dim, n_epochs=10000, n_batch=128, n_eval=1000, class_='Warrior', n=1000):\n",
    "    # determine half the size of one batch, for updating the discriminator\n",
    "    half_batch = int(n_batch / 2)\n",
    "    # manually enumerate epochs\n",
    "    for i in range(n_epochs):\n",
    "        # prepare real samples\n",
    "        x_real, y_real = generate_deck_samples(n, class_)\n",
    "        \n",
    "        #for x in x_real:\n",
    "         #   print(len(x))\n",
    "        #array=[]\n",
    "        #for d in x_real:\n",
    "         #   array.append(np.asarray(d))\n",
    "       \n",
    "        # prepare fake examples\n",
    "        x_fake, y_fake = generate_fake_decks(g_model, n)\n",
    "        \n",
    "        #print(x_fake.shape)\n",
    "        #print(y_fake.shape)\n",
    "        # update discriminator\n",
    "        d_model.train_on_batch(x_real, y_real)\n",
    "        d_model.train_on_batch(x_fake, y_fake)\n",
    "        # prepare points in latent space as input for the generator\n",
    "     \n",
    "        x_gan, y_gan = generate_fake_sample(g_model)\n",
    "        \n",
    "        # create inverted labels for the fake samples\n",
    "        #y_gan = ones((len(x_gan), 1))\n",
    "        \n",
    "        #print(x_gan.shape)\n",
    "        #print(y_gan.shape)\n",
    "        # update the generator via the discriminator's error\n",
    "        gan_model.train_on_batch(x_gan, y_gan)\n",
    "        # evaluate the model every n_eval epochs\n",
    "        if (i+1) % n_eval == 0:\n",
    "            created_deck = summarize_performance_gan(i, g_model, d_model, class_)\n",
    "            print(created_deck)\n",
    "            print(\"GAN:\")\n",
    "            print(x_gan)\n",
    "    return created_deck\n",
    "\n"
   ]
  },
  {
   "cell_type": "code",
   "execution_count": 13,
   "metadata": {},
   "outputs": [
    {
     "name": "stdout",
     "output_type": "stream",
     "text": [
      "999 0.0 1.0\n",
      "30\n",
      "30\n"
     ]
    },
    {
     "data": {
      "image/png": "[encoded data removed]",
      "text/plain": [
       "<Figure size 432x288 with 1 Axes>"
      ]
     },
     "metadata": {
      "needs_background": "light"
     },
     "output_type": "display_data"
    },
    {
     "name": "stdout",
     "output_type": "stream",
     "text": [
      "[[  52.  891. 1654. -209.  -18. 3227. 3298. 1622. 3488.  951. 3851. 1904.\n",
      "  2385.  442. 2571. 2547. 2570. 1826. 1952. 2587.   12. 3384.  714. 3509.\n",
      "  2200. 2515. 3476. 4187. 3797. 2857.]]\n",
      "GAN:\n",
      "[[-234.  554. 1181. -293. 1436. 3117. 2246.  853. 1612.  428. 2138. 2909.\n",
      "   896. 1910. 1802. 1328. 1547. 1692. 1592. 1750.  915. 2189. 1526. 1424.\n",
      "  2151. 1893. 2973. 3827. 2608. 2414.]]\n",
      "1999 1.0 1.0\n",
      "30\n",
      "30\n"
     ]
    },
    {
     "data": {
      "image/png": "[encoded data removed]",
      "text/plain": [
       "<Figure size 432x288 with 1 Axes>"
      ]
     },
     "metadata": {
      "needs_background": "light"
     },
     "output_type": "display_data"
    },
    {
     "name": "stdout",
     "output_type": "stream",
     "text": [
      "[[ 406. -306.  923.  412. -111.  -23.  978. -974.  818. -353.  227.  886.\n",
      "  1733. -253.  549. 1318.  996. -226.  742. 2139. 2215. 2032. 2392. 2965.\n",
      "  1031. 1396. 1561. 1566. 1116. 1919.]]\n",
      "GAN:\n",
      "[[ 6.610e+02  1.800e+01  8.980e+02  2.940e+02  7.000e+00  2.710e+02\n",
      "   9.790e+02 -5.560e+02  8.930e+02  5.800e+02  1.000e+00  4.290e+02\n",
      "   1.172e+03 -4.700e+01  1.204e+03  1.034e+03  9.850e+02  2.690e+02\n",
      "   7.270e+02  2.028e+03  1.597e+03  2.001e+03  2.297e+03  2.557e+03\n",
      "   1.455e+03  8.510e+02  1.624e+03  1.475e+03  9.040e+02  1.853e+03]]\n",
      "2999 1.0 1.0\n",
      "30\n",
      "30\n"
     ]
    },
    {
     "data": {
      "image/png": "[encoded data removed]",
      "text/plain": [
       "<Figure size 432x288 with 1 Axes>"
      ]
     },
     "metadata": {
      "needs_background": "light"
     },
     "output_type": "display_data"
    },
    {
     "name": "stdout",
     "output_type": "stream",
     "text": [
      "[[ -162.  1637.  -466.  1637.  1339. -1166. -1001.   726.   447.  -326.\n",
      "   -328.   438.   258.   635.  1225.  1402.   782.  1651.  1245.   -64.\n",
      "   1514.  1893.   524.  2455.   880.  -512.   748.   193.  1095.  1116.]]\n",
      "GAN:\n",
      "[[ -125.  1698.  -283.  1077.  1192. -1193. -1193.   396.   683.  -343.\n",
      "   -143.   411.  -100.  1207.  1582.  1483.   469.  1842.  1229.  -412.\n",
      "   1135.  1606.  -235.  2141.   578.  -917.   264.   252.   774.  1240.]]\n",
      "3999 1.0 0.0\n",
      "30\n",
      "30\n"
     ]
    },
    {
     "data": {
      "image/png": "[encoded data removed]",
      "text/plain": [
       "<Figure size 432x288 with 1 Axes>"
      ]
     },
     "metadata": {
      "needs_background": "light"
     },
     "output_type": "display_data"
    },
    {
     "name": "stdout",
     "output_type": "stream",
     "text": [
      "[[ 229. -188.   87.  430.   88.  495.   -8.  241.  402.  266.  889.  576.\n",
      "   891.  417.  778. 1159.  990. 1122. 1024.  827.  781.  997.  812. 1377.\n",
      "  1292. 1109.  971. 1020. 1198. 1253.]]\n",
      "GAN:\n",
      "[[ 360.  -97.  227.  293.  308.  612.  422.  304.  734.  540.  917.  489.\n",
      "   915.  868.  983. 1293.  973. 1057. 1269. 1048.  965. 1205.  910. 1332.\n",
      "   842. 1708. 1186. 1321. 1633. 1552.]]\n",
      "4999 1.0 1.0\n",
      "30\n",
      "30\n"
     ]
    },
    {
     "data": {
      "image/png": "[encoded data removed]",
      "text/plain": [
       "<Figure size 432x288 with 1 Axes>"
      ]
     },
     "metadata": {
      "needs_background": "light"
     },
     "output_type": "display_data"
    },
    {
     "name": "stdout",
     "output_type": "stream",
     "text": [
      "[[ -40.  160.  279.  166.  522.  425.  382.  218.  414.  604.  546.  406.\n",
      "   824.  497.  636.  445.  816.  965. 1072. 1168.  688.  730.  613.  820.\n",
      "  1297.  815.  836.  761.  956.  636.]]\n",
      "GAN:\n",
      "[[ 295.  -29.  175.   48. -137.  929.  944.  841.  560.  985. 1107.  840.\n",
      "   916. 1068. 1013. 1173.  984.  640.  992. 1465. 1211. 1199. 1122.  794.\n",
      "   821. 1567. 1417. 1328. 1619. 1596.]]\n",
      "5999 0.0 1.0\n",
      "30\n",
      "30\n"
     ]
    },
    {
     "data": {
      "image/png": "[encoded data removed]",
      "text/plain": [
       "<Figure size 432x288 with 1 Axes>"
      ]
     },
     "metadata": {
      "needs_background": "light"
     },
     "output_type": "display_data"
    },
    {
     "name": "stdout",
     "output_type": "stream",
     "text": [
      "[[ 160.   42.  351.  368.  207.  411.  351.  373.  322.  573.  545.  792.\n",
      "  1046.  436.  918.  710. 1325. 1023.  979. 1212.  717.  746. 1200. 1298.\n",
      "  1013. 1127. 1123.  965. 1178. 1155.]]\n",
      "GAN:\n",
      "[[  -3.   59.   56.  480.  876.   32.  514.  605.  548.  726.  333.  180.\n",
      "   857.  496.  630.  644. 1001. 1184. 1278. 1072.  865. 1246. 1098.  743.\n",
      "  1024. 1498.  919. 1219.  964. 1191.]]\n",
      "6999 0.0 1.0\n",
      "30\n",
      "30\n"
     ]
    },
    {
     "data": {
      "image/png": "[encoded data removed]",
      "text/plain": [
       "<Figure size 432x288 with 1 Axes>"
      ]
     },
     "metadata": {
      "needs_background": "light"
     },
     "output_type": "display_data"
    },
    {
     "name": "stdout",
     "output_type": "stream",
     "text": [
      "[[ 338.  176.  397.   23.   66.  218.  443.  179.  602.  628.  687.  452.\n",
      "   695.  781.  867. 1033.  856.  776. 1086. 1191. 1039.  969.  892. 1100.\n",
      "   765. 1118. 1145.  990. 1275. 1250.]]\n",
      "GAN:\n",
      "[[  80.   23.  256.  185.  427.  112.  205.  182.  414.  538.  105.  285.\n",
      "   669.  410.  553.  508.  770.  734.  815. 1208.  782.  839.  923.  842.\n",
      "   926. 1117.  844.  835.  799.  841.]]\n",
      "7999 1.0 1.0\n",
      "30\n",
      "30\n"
     ]
    },
    {
     "data": {
      "image/png": "[encoded data removed]",
      "text/plain": [
       "<Figure size 432x288 with 1 Axes>"
      ]
     },
     "metadata": {
      "needs_background": "light"
     },
     "output_type": "display_data"
    },
    {
     "name": "stdout",
     "output_type": "stream",
     "text": [
      "[[  86.  154.  231.  301.  234.  483.  195.  242.  300.  166.  470.  775.\n",
      "   446.  734.  632.  848.  638.  848.  725.  749.  909.  939. 1005.  741.\n",
      "   769. 1104.  849.  827.  910. 1215.]]\n",
      "GAN:\n",
      "[[  93.  334.  141.  153. -101. -250.  429.  809.  831.  758.  927.  340.\n",
      "  1117.  283.  800. 1006.  991.  829.  995. 1048.  965. 1190.  302. 1185.\n",
      "   709.  961. 1048.  873. 1325. 1403.]]\n",
      "8999 1.0 1.0\n",
      "30\n",
      "30\n"
     ]
    },
    {
     "data": {
      "image/png": "[encoded data removed]",
      "text/plain": [
       "<Figure size 432x288 with 1 Axes>"
      ]
     },
     "metadata": {
      "needs_background": "light"
     },
     "output_type": "display_data"
    },
    {
     "name": "stdout",
     "output_type": "stream",
     "text": [
      "[[-30. 124.  69.  46. 215.  91. 112.  72. 182. 290. 100. 234. 226. 582.\n",
      "  324. 179. 306. 441. 468. 377. 380. 338. 409. 479. 498. 250. 349. 430.\n",
      "  342. 488.]]\n",
      "GAN:\n",
      "[[  41.  159.  228.   76.  738.  441.  405.  525.  433.  441.  424.  828.\n",
      "   426. 1350.  591.  548.  518.  712.  887.  718. 1235.  821.  867.  540.\n",
      "   942.  996.  928. 1436. 1042. 1311.]]\n",
      "9999 1.0 1.0\n",
      "30\n",
      "30\n"
     ]
    },
    {
     "data": {
      "image/png": "[encoded data removed]",
      "text/plain": [
       "<Figure size 432x288 with 1 Axes>"
      ]
     },
     "metadata": {
      "needs_background": "light"
     },
     "output_type": "display_data"
    },
    {
     "name": "stdout",
     "output_type": "stream",
     "text": [
      "[[  1.  60.  61.  37.  91.  47.  92. 131. 114. 191. 190. 152. 312. 176.\n",
      "  142. 160. 287. 300. 316. 296. 224. 213. 157. 372. 304. 315. 334. 300.\n",
      "  420. 313.]]\n",
      "GAN:\n",
      "[[ 90.  37. 100.  -9. 174. 125. 269. 322. 339. 375. 308. 399. 289. 546.\n",
      "  306. 461. 450. 416. 510. 418. 742. 548. 389. 248. 390. 579. 582. 722.\n",
      "  618. 723.]]\n"
     ]
    }
   ],
   "source": [
    "latent_dim =30\n",
    "# create the discriminator\n",
    "\n",
    "#try changing activations n such on models\n",
    "discriminator = define_discriminator()\n",
    "# create the generator\n",
    "generator = define_generator(latent_dim)\n",
    "# create the gan\n",
    "gan_model = define_gan(generator, discriminator)\n",
    "# train model\n",
    "created_deck = train(generator, discriminator, gan_model, latent_dim)\n"
   ]
  },
  {
   "cell_type": "code",
   "execution_count": 14,
   "metadata": {},
   "outputs": [
    {
     "name": "stdout",
     "output_type": "stream",
     "text": [
      "[[  1.  60.  61.  37.  91.  47.  92. 131. 114. 191. 190. 152. 312. 176.\n",
      "  142. 160. 287. 300. 316. 296. 224. 213. 157. 372. 304. 315. 334. 300.\n",
      "  420. 313.]]\n"
     ]
    }
   ],
   "source": [
    "print(created_deck)\n",
    "final_decks = []\n",
    "for deck in created_deck:\n",
    "    deck = []\n",
    "    for card in deck:\n",
    "        if abs(card) <= maximum:\n",
    "            deck.append(abs(card))\n",
    "        else:\n",
    "            break\n",
    "    if(len(deck) == 30):\n",
    "        final_decks.append(deck)\n",
    "            \n",
    "            \n",
    "            "
   ]
  },
  {
   "cell_type": "code",
   "execution_count": 16,
   "metadata": {},
   "outputs": [
    {
     "ename": "IndexError",
     "evalue": "index 6 is out of bounds for axis 0 with size 1",
     "output_type": "error",
     "traceback": [
      "\u001b[0;31m---------------------------------------------------------------------------\u001b[0m",
      "\u001b[0;31mIndexError\u001b[0m                                Traceback (most recent call last)",
      "\u001b[0;32m<ipython-input-16-b78b84dd2521>\u001b[0m in \u001b[0;36m<module>\u001b[0;34m\u001b[0m\n\u001b[1;32m      4\u001b[0m \u001b[0;34m\u001b[0m\u001b[0m\n\u001b[1;32m      5\u001b[0m \u001b[0md\u001b[0m \u001b[0;34m=\u001b[0m \u001b[0;34m[\u001b[0m\u001b[0;34m]\u001b[0m\u001b[0;34m\u001b[0m\u001b[0;34m\u001b[0m\u001b[0m\n\u001b[0;32m----> 6\u001b[0;31m \u001b[0;32mfor\u001b[0m \u001b[0mcards\u001b[0m \u001b[0;32min\u001b[0m \u001b[0mcreated_deck\u001b[0m\u001b[0;34m[\u001b[0m\u001b[0;36m6\u001b[0m\u001b[0;34m]\u001b[0m\u001b[0;34m:\u001b[0m\u001b[0;34m\u001b[0m\u001b[0;34m\u001b[0m\u001b[0m\n\u001b[0m\u001b[1;32m      7\u001b[0m     \u001b[0;32mif\u001b[0m \u001b[0mabs\u001b[0m\u001b[0;34m(\u001b[0m\u001b[0mcards\u001b[0m\u001b[0;34m)\u001b[0m \u001b[0;34m<=\u001b[0m \u001b[0mmaximum\u001b[0m \u001b[0;32mand\u001b[0m \u001b[0mabs\u001b[0m\u001b[0;34m(\u001b[0m\u001b[0mcards\u001b[0m\u001b[0;34m)\u001b[0m \u001b[0;34m>\u001b[0m \u001b[0;36m0\u001b[0m\u001b[0;34m:\u001b[0m\u001b[0;34m\u001b[0m\u001b[0;34m\u001b[0m\u001b[0m\n\u001b[1;32m      8\u001b[0m         \u001b[0md\u001b[0m\u001b[0;34m.\u001b[0m\u001b[0mappend\u001b[0m\u001b[0;34m(\u001b[0m\u001b[0mround\u001b[0m\u001b[0;34m(\u001b[0m\u001b[0mabs\u001b[0m\u001b[0;34m(\u001b[0m\u001b[0mcards\u001b[0m\u001b[0;34m)\u001b[0m\u001b[0;34m)\u001b[0m\u001b[0;34m)\u001b[0m\u001b[0;34m\u001b[0m\u001b[0;34m\u001b[0m\u001b[0m\n",
      "\u001b[0;31mIndexError\u001b[0m: index 6 is out of bounds for axis 0 with size 1"
     ]
    }
   ],
   "source": [
    "#instead of rounding maybe try converting it to int, getting rip of the decimal point\n",
    "# I added np.round to some functions\n",
    "#also try turning output to predicting integers\n",
    "#replace old card system to new one with data.json\n",
    "\n",
    "d = []\n",
    "for cards in created_deck[6]:\n",
    "    if abs(cards) <= maximum and abs(cards) > 0:\n",
    "        d.append(round(abs(cards)))\n",
    "f = vector_to_deck(d)\n",
    "f"
   ]
  },
  {
   "cell_type": "code",
   "execution_count": null,
   "metadata": {},
   "outputs": [],
   "source": []
  }
 ],
 "metadata": {
  "kernelspec": {
   "display_name": "Python 3",
   "language": "python",
   "name": "python3"
  },
  "language_info": {
   "codemirror_mode": {
    "name": "ipython",
    "version": 3
   },
   "file_extension": ".py",
   "mimetype": "text/x-python",
   "name": "python",
   "nbconvert_exporter": "python",
   "pygments_lexer": "ipython3",
   "version": "3.8.6"
  }
 },
 "nbformat": 4,
 "nbformat_minor": 4
}
